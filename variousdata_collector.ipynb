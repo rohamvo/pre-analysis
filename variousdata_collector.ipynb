{
 "cells": [
  {
   "cell_type": "code",
   "execution_count": 1,
   "metadata": {},
   "outputs": [],
   "source": [
    "import pandas as pd\n",
    "import requests\n",
    "from tqdm import tqdm\n",
    "import time\n",
    "from datetime import datetime\n",
    "import numpy as np\n",
    "import csv\n",
    "import pickle\n",
    "import urllib\n",
    "import json"
   ]
  },
  {
   "cell_type": "code",
   "execution_count": 2,
   "metadata": {},
   "outputs": [],
   "source": [
    "# api key\n",
    "headers = {\n",
    "  \"x-nxopen-api-key\": \"test_b7a2709bb4fe7572494ad6f8f3ce6f4a9a08ece44f72cc3275a9c0fe0bc1031c1007179e9a522fc8756d42cac9e0b876\",\n",
    "}\n"
   ]
  },
  {
   "cell_type": "code",
   "execution_count": 3,
   "metadata": {},
   "outputs": [],
   "source": [
    "# 현재 날짜\n",
    "now = datetime.now()\n",
    "now_date = now.date()"
   ]
  },
  {
   "cell_type": "code",
   "execution_count": 3,
   "metadata": {},
   "outputs": [],
   "source": [
    "job_list = ['warrior','warrior_hero','warrior_paladin','warrior_darkkinght','magician','magician_fire','magician_ice','magician_bishop','archer','archer_bowmaster','archer_marksman','archer_pathfinder','thief','thief_nightlord','thief_shadower','thief_blademaster','pirate','pirate_viper','pirate_captain','pirate_cannon','cygnus','cygnus_soul','cygnus_flame','cygnus_wind','cygnus_night','cygnus_striker','cygnus_mihile','aran','evan','resistance','resistance_battle','resistance_wild','resistance_mechanic','resistance_slayer','resistance_avenger','resistance_xenon','resistance_blaster','mercedes','phantom','luminous','kaiser','angelic','zero','shade','kinesis','cadena','illium','ark','hoyoung','adele','kain','lara','khali']"
   ]
  },
  {
   "cell_type": "code",
   "execution_count": 4,
   "metadata": {},
   "outputs": [],
   "source": [
    "# pickle 파일 읽어오기\n",
    "for i in range(len(job_list)) :\n",
    "    with open(f'{job_list[i]}_rank', 'rb') as fr :\n",
    "        globals()[f'{job_list[i]}_rank'] = pickle.load(fr)"
   ]
  },
  {
   "cell_type": "code",
   "execution_count": 7,
   "metadata": {},
   "outputs": [
    {
     "name": "stdout",
     "output_type": "stream",
     "text": [
      "archer_marksman\n"
     ]
    }
   ],
   "source": [
    "# ocid data가 가장 많이 수집된 파일 찾기\n",
    "len_list = []\n",
    "for i in range(0,47) :\n",
    "    a = []\n",
    "    with open(f'{job_list[i]}_ocid', newline='') as f:\n",
    "        csv_reader = csv.reader(f)\n",
    "        for row in csv_reader :\n",
    "            a.append(row)\n",
    "    len_list.append(len(a[0]))\n",
    "\n",
    "print(job_list[len_list.index(max(len_list))])"
   ]
  },
  {
   "cell_type": "code",
   "execution_count": 5,
   "metadata": {},
   "outputs": [
    {
     "data": {
      "text/plain": [
       "155"
      ]
     },
     "execution_count": 5,
     "metadata": {},
     "output_type": "execute_result"
    }
   ],
   "source": [
    "archer_marksman_ocid = []\n",
    "with open('archer_marksman_ocid', newline = '') as f:\n",
    "    csv_reader = csv.reader(f)\n",
    "    for row in csv_reader :\n",
    "        archer_marksman_ocid.append(row)\n",
    "len(archer_marksman_ocid[0])"
   ]
  },
  {
   "cell_type": "code",
   "execution_count": null,
   "metadata": {},
   "outputs": [],
   "source": [
    "# 현재 날짜 기준 수집되지 않는 데이터 있음\n",
    "# 하루 전 데이터로 수집\n",
    "# 스킬 데이터는 차수마다 url이 나눠져 있으므로 따로 수집\n",
    "# variousdata_url =[# \n",
    "    f'https://open.api.nexon.com/maplestory/v1/character/basic?ocid={ocid}&date=2024-05-20',\n",
    "    f'https://open.api.nexon.com/maplestory/v1/character/stat?ocid={ocid}&date=2024-05-20',\n",
    "    f'https://open.api.nexon.com/maplestory/v1/character/hyper-stat?ocid={ocid}&date=2024-05-20',\n",
    "    f'https://open.api.nexon.com/maplestory/v1/character/ability?ocid={ocid}&date=2024-05-20',\n",
    "    f'https://open.api.nexon.com/maplestory/v1/character/item-equipment?ocid={ocid}&date=2024-05-20',\n",
    "    f'https://open.api.nexon.com/maplestory/v1/character/cashitem-equipment?ocid={ocid}&date=2024-05-20',\n",
    "    f'https://open.api.nexon.com/maplestory/v1/character/symbol-equipment?ocid={ocid}&date=2024-05-20',\n",
    "    f'https://open.api.nexon.com/maplestory/v1/character/set-effect?ocid={ocid}&date=2024-05-20',\n",
    "    f'https://open.api.nexon.com/maplestory/v1/character/android-equipment?ocid={ocid}&date=2024-05-20',\n",
    "    f'https://open.api.nexon.com/maplestory/v1/character/pet-equipment?ocid={ocid}&date=2024-05-20',\n",
    "    f'https://open.api.nexon.com/maplestory/v1/character/link-skill?ocid={ocid}&date=2024-05-20',\n",
    "    f'https://open.api.nexon.com/maplestory/v1/character/vmatrix?ocid={ocid}&date=2024-05-20',\n",
    "    f'https://open.api.nexon.com/maplestory/v1/character/hexamatrix?ocid={ocid}&date=2024-05-20',\n",
    "    f'https://open.api.nexon.com/maplestory/v1/character/hexamatrix-stat?ocid={ocid}&date=2024-05-20',\n",
    "    f'https://open.api.nexon.com/maplestory/v1/character/dojang?ocid={ocid}&date=2024-05-20'\n",
    "]"
   ]
  },
  {
   "cell_type": "code",
   "execution_count": 75,
   "metadata": {},
   "outputs": [],
   "source": [
    "# variousdata_title = ['basic', 'stat', 'hyper-stat', 'ability', 'item-equipment', 'cashitem-equipment', 'symbol-equipment', 'set-effect', 'android-equipment', 'pet-equipment', 'link-skill', 'vmatrix', 'hexamatrix', 'hexamatrix-stat', 'dojang']\n",
    "# name_list = ['basic_info', 'com_abil', 'hyper_stat', 'abil_info', 'item_info', 'cash_item_info', 'symbol_info', 'set_info', 'android_info', 'pet_info', 'link_info', 'vmatrix_info', 'hexacore_info', 'hexa_info', 'dojang_info']"
   ]
  },
  {
   "cell_type": "code",
   "execution_count": 24,
   "metadata": {},
   "outputs": [],
   "source": [
    "# API 일일 요청 제한 건수 제한이 있어 6개씩 진행\n",
    "# basic ~ item_equipment까지 완료\n",
    "# title_list = ['basic']\n",
    "# title_list = ['stat', 'hyper-stat', 'ability', 'item-equipment']\n",
    "# title_list = ['cashitem-equipment', 'symbol-equipment', 'set-effect', 'android-equipment', 'pet-equipment']\n",
    "title_list = ['link-skill']\n",
    "ocid_list = archer_marksman_ocid[0]"
   ]
  },
  {
   "cell_type": "code",
   "execution_count": 7,
   "metadata": {},
   "outputs": [],
   "source": [
    "# 스킬 정보 제외 데이터 수집기\n",
    "def variousdata_collector(title_list, ocid_list) :\n",
    "    for title in title_list :\n",
    "        globals()[f'{title}_info'] = []\n",
    "    for title in title_list :\n",
    "        for ocid in ocid_list :\n",
    "            url = f'https://open.api.nexon.com/maplestory/v1/character/{title}?ocid={ocid}&date=2024-05-20'\n",
    "            request = requests.get(url, headers=headers)\n",
    "            result = request.json()\n",
    "            globals()[f'{title}_info'].append(result)\n",
    "            time.sleep(1)\n",
    "        with open(f'{title}_info.json', 'w') as f:\n",
    "            json.dump(globals()[f'{title}_info'], f)"
   ]
  },
  {
   "cell_type": "code",
   "execution_count": 26,
   "metadata": {},
   "outputs": [],
   "source": [
    "with open(\"link-skill_info.json\", \"r\") as f:\n",
    "\tbasic = json.load(f)"
   ]
  },
  {
   "cell_type": "code",
   "execution_count": 10,
   "metadata": {},
   "outputs": [
    {
     "data": {
      "text/plain": [
       "155"
      ]
     },
     "execution_count": 10,
     "metadata": {},
     "output_type": "execute_result"
    }
   ],
   "source": [
    "len(basic)"
   ]
  },
  {
   "cell_type": "code",
   "execution_count": 25,
   "metadata": {},
   "outputs": [],
   "source": [
    "variousdata_collector(title_list, ocid_list)"
   ]
  },
  {
   "cell_type": "code",
   "execution_count": 39,
   "metadata": {},
   "outputs": [
    {
     "data": {
      "text/plain": [
       "'1a40ff7dfe726629a0d803fc4f5e924c'"
      ]
     },
     "execution_count": 39,
     "metadata": {},
     "output_type": "execute_result"
    }
   ],
   "source": [
    "ocid_list[-1]"
   ]
  },
  {
   "cell_type": "code",
   "execution_count": 39,
   "metadata": {},
   "outputs": [
    {
     "data": {
      "text/plain": [
       "{'date': '2024-05-20T00:00+09:00',\n",
       " 'character_class': '신궁',\n",
       " 'character_link_skill': [{'skill_name': '데몬스 퓨리',\n",
       "   'skill_description': '[마스터 레벨 : 2]\\r\\n대상이 보스일 경우, 내면에 잠재된 분노를 이끌어 내 더욱 강력한 데미지를 입힌다.',\n",
       "   'skill_level': 2,\n",
       "   'skill_effect': '보스 몬스터 공격 시 데미지 15% 증가',\n",
       "   'skill_icon': 'https://open.api.nexon.com/static/maplestory/SkillIcon/KFHCLHOBMB.png',\n",
       "   'skill_effect_next': None},\n",
       "  {'skill_name': '소울 컨트랙트',\n",
       "   'skill_description': '[마스터 레벨 : 2]\\r\\n에스카다와의 계약을 통해 순간적으로 데미지를 극대화한다.',\n",
       "   'skill_level': 2,\n",
       "   'skill_effect': '10초 동안 데미지 45% 증가\\n재사용 대기시간 60초',\n",
       "   'skill_icon': 'https://open.api.nexon.com/static/maplestory/SkillIcon/KFHCLHPAJF.png',\n",
       "   'skill_effect_next': None},\n",
       "  {'skill_name': '하이브리드 로직',\n",
       "   'skill_description': '[마스터 레벨 : 2]\\r\\n하이브리드 로직 디자인을 적용하여 모든 능력치가 영구히 증가한다.',\n",
       "   'skill_level': 2,\n",
       "   'skill_effect': '모든 능력치 10% 증가',\n",
       "   'skill_icon': 'https://open.api.nexon.com/static/maplestory/SkillIcon/KFHCLHOBIH.png',\n",
       "   'skill_effect_next': None},\n",
       "  {'skill_name': '와일드 레이지',\n",
       "   'skill_description': '[마스터 레벨 : 2]\\r\\n분노로 인해 데미지가 증가한다.',\n",
       "   'skill_level': 2,\n",
       "   'skill_effect': '데미지 10% 증가',\n",
       "   'skill_icon': 'https://open.api.nexon.com/static/maplestory/SkillIcon/KFHCLHOBJA.png',\n",
       "   'skill_effect_next': None},\n",
       "  {'skill_name': '시그너스 블레스',\n",
       "   'skill_description': '[마스터 레벨 : 10]\\r\\n각성한 여제의 가호가 몸에 깃들어 적의 위협으로부터 벗어난다.',\n",
       "   'skill_level': 10,\n",
       "   'skill_effect': '공격력과 마력 25, 상태 이상 내성 15, 모든 속성 내성 15% 증가',\n",
       "   'skill_icon': 'https://open.api.nexon.com/static/maplestory/SkillIcon/KFHCLHOBJF.png',\n",
       "   'skill_effect_next': None},\n",
       "  {'skill_name': '판단',\n",
       "   'skill_description': '[마스터 레벨 : 2]\\r\\n타고난 판단력으로 적에게 가능한 최고의 치명상을 입힌다.',\n",
       "   'skill_level': 2,\n",
       "   'skill_effect': ' 크리티컬 데미지 4% 증가',\n",
       "   'skill_icon': 'https://open.api.nexon.com/static/maplestory/SkillIcon/KFHCLHOAEI.png',\n",
       "   'skill_effect_next': None},\n",
       "  {'skill_name': '인텐시브 인썰트',\n",
       "   'skill_description': '[마스터 레벨 : 2]\\r\\n자신보다 약한 적에겐 더 효과적인 공격을 가한다.',\n",
       "   'skill_level': 2,\n",
       "   'skill_effect': '캐릭터보다 레벨이 낮은 몬스터 공격 시 데미지 6% 증가, 상태 이상에 걸린 몬스터 공격 시 데미지 6% 증가',\n",
       "   'skill_icon': 'https://open.api.nexon.com/static/maplestory/SkillIcon/KFHCLHODKB.png',\n",
       "   'skill_effect_next': None},\n",
       "  {'skill_name': '무아',\n",
       "   'skill_description': '[마스터 레벨 : 2]\\r\\n자신을 잊어버릴 정도로 전투에 집중한다.\\n일정 시간 동안 전투 상태가 지속되면 데미지가 증가한다.',\n",
       "   'skill_level': 2,\n",
       "   'skill_effect': '전투 상태가 5초 지속되면 발동되며 최대 5회 중첩가능, 지속시간 5초\\n발동 시 데미지 1% 증가, 중첩당 데미지 2% 추가 증가',\n",
       "   'skill_icon': 'https://open.api.nexon.com/static/maplestory/SkillIcon/KFHCLHOENE.png',\n",
       "   'skill_effect_next': None},\n",
       "  {'skill_name': '임피리컬 널리지',\n",
       "   'skill_description': '[마스터 레벨 : 6]\\r\\n실전적인 탐구를 통해 약점을 파악하여 해당 적에 대한 데미지와 방어율 무시를 점차 증가시킨다.',\n",
       "   'skill_level': 6,\n",
       "   'skill_effect': '공격한 적 중 최대 HP가 가장 높은 적에 대한 약점을 25% 확률로 파악, 파악한 약점은 10초 동안 지속되며 최대 3회까지 중첩\\n중첩 당 데미지 3%, 방어율 무시 3% 증가',\n",
       "   'skill_icon': 'https://open.api.nexon.com/static/maplestory/SkillIcon/KFHCLHMGKC.png',\n",
       "   'skill_effect_next': None},\n",
       "  {'skill_name': '시프 커닝',\n",
       "   'skill_description': '[마스터 레벨 : 6]\\r\\n도적 특유의 교활함을 발휘해 적을 약화시키면 데미지가 증가한다.\\n재사용 대기시간 초기화, 버프 지속시간 증가의 효과를 받지 않는다.',\n",
       "   'skill_level': 6,\n",
       "   'skill_effect': '적에게 상태 이상을 적용시키면 10초 동안 데미지 18% 증가\\n재발동 대기시간 20초 ',\n",
       "   'skill_icon': 'https://open.api.nexon.com/static/maplestory/SkillIcon/KFHCLHMGLA.png',\n",
       "   'skill_effect_next': None},\n",
       "  {'skill_name': '노블레스',\n",
       "   'skill_description': '[마스터 레벨 : 2]\\r\\n강력한 상대로부터 누군가를 지켜야 할 때 더 큰 힘을 발휘하는 숭고함을 가진다.',\n",
       "   'skill_level': 2,\n",
       "   'skill_effect': '보스 몬스터 공격 시 데미지 4% 증가\\n같은 맵에 있는 자신을 포함한 파티원 1명 당 데미지 2% 증가, 최대 8%까지 증가\\n파티를 하지 않았을 때는 자신만 파티한 것으로 취급',\n",
       "   'skill_icon': 'https://open.api.nexon.com/static/maplestory/SkillIcon/KFHCLHMJJH.png',\n",
       "   'skill_effect_next': None},\n",
       "  {'skill_name': '프라이어 프리퍼레이션',\n",
       "   'skill_description': '[마스터 레벨 : 2]\\r\\n적을 확실하게 처리하기 위한 사전 준비를 한다.',\n",
       "   'skill_level': 2,\n",
       "   'skill_effect': '적 8명 처치, 혹은 보스 몬스터에게 5번 공격 적중 시 사전 준비 1번 완료, 사전 준비를 5번 마치면 20초 동안 데미지 17% 증가\\n재발동 대기시간 40초',\n",
       "   'skill_icon': 'https://open.api.nexon.com/static/maplestory/SkillIcon/KFHCLHNBNF.png',\n",
       "   'skill_effect_next': None}],\n",
       " 'character_link_skill_preset_1': [{'skill_name': '데몬스 퓨리',\n",
       "   'skill_description': '[마스터 레벨 : 2]\\r\\n대상이 보스일 경우, 내면에 잠재된 분노를 이끌어 내 더욱 강력한 데미지를 입힌다.',\n",
       "   'skill_level': 2,\n",
       "   'skill_effect': '보스 몬스터 공격 시 데미지 15% 증가',\n",
       "   'skill_icon': 'https://open.api.nexon.com/static/maplestory/SkillIcon/KFHCLHOBMB.png'},\n",
       "  {'skill_name': '시프 커닝',\n",
       "   'skill_description': '[마스터 레벨 : 6]\\r\\n도적 특유의 교활함을 발휘해 적을 약화시키면 데미지가 증가한다.\\n재사용 대기시간 초기화, 버프 지속시간 증가의 효과를 받지 않는다.',\n",
       "   'skill_level': 6,\n",
       "   'skill_effect': '적에게 상태 이상을 적용시키면 10초 동안 데미지 18% 증가\\n재발동 대기시간 20초 ',\n",
       "   'skill_icon': 'https://open.api.nexon.com/static/maplestory/SkillIcon/KFHCLHMGLA.png'},\n",
       "  {'skill_name': '와일드 레이지',\n",
       "   'skill_description': '[마스터 레벨 : 2]\\r\\n분노로 인해 데미지가 증가한다.',\n",
       "   'skill_level': 2,\n",
       "   'skill_effect': '데미지 10% 증가',\n",
       "   'skill_icon': 'https://open.api.nexon.com/static/maplestory/SkillIcon/KFHCLHOBJA.png'},\n",
       "  {'skill_name': '인텐시브 인썰트',\n",
       "   'skill_description': '[마스터 레벨 : 2]\\r\\n자신보다 약한 적에겐 더 효과적인 공격을 가한다.',\n",
       "   'skill_level': 2,\n",
       "   'skill_effect': '캐릭터보다 레벨이 낮은 몬스터 공격 시 데미지 6% 증가, 상태 이상에 걸린 몬스터 공격 시 데미지 6% 증가',\n",
       "   'skill_icon': 'https://open.api.nexon.com/static/maplestory/SkillIcon/KFHCLHODKB.png'},\n",
       "  {'skill_name': '임피리컬 널리지',\n",
       "   'skill_description': '[마스터 레벨 : 6]\\r\\n실전적인 탐구를 통해 약점을 파악하여 해당 적에 대한 데미지와 방어율 무시를 점차 증가시킨다.',\n",
       "   'skill_level': 6,\n",
       "   'skill_effect': '공격한 적 중 최대 HP가 가장 높은 적에 대한 약점을 25% 확률로 파악, 파악한 약점은 10초 동안 지속되며 최대 3회까지 중첩\\n중첩 당 데미지 3%, 방어율 무시 3% 증가',\n",
       "   'skill_icon': 'https://open.api.nexon.com/static/maplestory/SkillIcon/KFHCLHMGKC.png'},\n",
       "  {'skill_name': '판단',\n",
       "   'skill_description': '[마스터 레벨 : 2]\\r\\n타고난 판단력으로 적에게 가능한 최고의 치명상을 입힌다.',\n",
       "   'skill_level': 2,\n",
       "   'skill_effect': ' 크리티컬 데미지 4% 증가',\n",
       "   'skill_icon': 'https://open.api.nexon.com/static/maplestory/SkillIcon/KFHCLHOAEI.png'},\n",
       "  {'skill_name': '무아',\n",
       "   'skill_description': '[마스터 레벨 : 2]\\r\\n자신을 잊어버릴 정도로 전투에 집중한다.\\n일정 시간 동안 전투 상태가 지속되면 데미지가 증가한다.',\n",
       "   'skill_level': 2,\n",
       "   'skill_effect': '전투 상태가 5초 지속되면 발동되며 최대 5회 중첩가능, 지속시간 5초\\n발동 시 데미지 1% 증가, 중첩당 데미지 2% 추가 증가',\n",
       "   'skill_icon': 'https://open.api.nexon.com/static/maplestory/SkillIcon/KFHCLHOENE.png'},\n",
       "  {'skill_name': '프라이어 프리퍼레이션',\n",
       "   'skill_description': '[마스터 레벨 : 2]\\r\\n적을 확실하게 처리하기 위한 사전 준비를 한다.',\n",
       "   'skill_level': 2,\n",
       "   'skill_effect': '적 8명 처치, 혹은 보스 몬스터에게 5번 공격 적중 시 사전 준비 1번 완료, 사전 준비를 5번 마치면 20초 동안 데미지 17% 증가\\n재발동 대기시간 40초',\n",
       "   'skill_icon': 'https://open.api.nexon.com/static/maplestory/SkillIcon/KFHCLHNBNF.png'},\n",
       "  {'skill_name': '하이브리드 로직',\n",
       "   'skill_description': '[마스터 레벨 : 2]\\r\\n하이브리드 로직 디자인을 적용하여 모든 능력치가 영구히 증가한다.',\n",
       "   'skill_level': 2,\n",
       "   'skill_effect': '모든 능력치 10% 증가',\n",
       "   'skill_icon': 'https://open.api.nexon.com/static/maplestory/SkillIcon/KFHCLHOBIH.png'},\n",
       "  {'skill_name': '소울 컨트랙트',\n",
       "   'skill_description': '[마스터 레벨 : 2]\\r\\n에스카다와의 계약을 통해 순간적으로 데미지를 극대화한다.',\n",
       "   'skill_level': 2,\n",
       "   'skill_effect': '10초 동안 데미지 45% 증가\\n재사용 대기시간 60초',\n",
       "   'skill_icon': 'https://open.api.nexon.com/static/maplestory/SkillIcon/KFHCLHPAJF.png'},\n",
       "  {'skill_name': '시그너스 블레스',\n",
       "   'skill_description': '[마스터 레벨 : 10]\\r\\n각성한 여제의 가호가 몸에 깃들어 적의 위협으로부터 벗어난다.',\n",
       "   'skill_level': 10,\n",
       "   'skill_effect': '공격력과 마력 25, 상태 이상 내성 15, 모든 속성 내성 15% 증가',\n",
       "   'skill_icon': 'https://open.api.nexon.com/static/maplestory/SkillIcon/KFHCLHOBJF.png'},\n",
       "  {'skill_name': '노블레스',\n",
       "   'skill_description': '[마스터 레벨 : 2]\\r\\n강력한 상대로부터 누군가를 지켜야 할 때 더 큰 힘을 발휘하는 숭고함을 가진다.',\n",
       "   'skill_level': 2,\n",
       "   'skill_effect': '보스 몬스터 공격 시 데미지 4% 증가\\n같은 맵에 있는 자신을 포함한 파티원 1명 당 데미지 2% 증가, 최대 8%까지 증가\\n파티를 하지 않았을 때는 자신만 파티한 것으로 취급',\n",
       "   'skill_icon': 'https://open.api.nexon.com/static/maplestory/SkillIcon/KFHCLHMJJH.png'}],\n",
       " 'character_link_skill_preset_2': [{'skill_name': '데몬스 퓨리',\n",
       "   'skill_description': '[마스터 레벨 : 2]\\r\\n대상이 보스일 경우, 내면에 잠재된 분노를 이끌어 내 더욱 강력한 데미지를 입힌다.',\n",
       "   'skill_level': 2,\n",
       "   'skill_effect': '보스 몬스터 공격 시 데미지 15% 증가',\n",
       "   'skill_icon': 'https://open.api.nexon.com/static/maplestory/SkillIcon/KFHCLHOBMB.png'},\n",
       "  {'skill_name': '스피릿 오브 프리덤',\n",
       "   'skill_description': '[마스터 레벨 : 8]\\r\\n자유를 염원하는 레지스탕스가 가진 혼의 힘으로 부활 시 일정 시간 동안 피해를 받지 않는다.',\n",
       "   'skill_level': 8,\n",
       "   'skill_effect': '부활 시 8초 동안 피해를 받지 않음, 맵 이동 시 해제',\n",
       "   'skill_icon': 'https://open.api.nexon.com/static/maplestory/SkillIcon/KFHCLHOCOJ.png'},\n",
       "  {'skill_name': '시그너스 블레스',\n",
       "   'skill_description': '[마스터 레벨 : 10]\\r\\n각성한 여제의 가호가 몸에 깃들어 적의 위협으로부터 벗어난다.',\n",
       "   'skill_level': 10,\n",
       "   'skill_effect': '공격력과 마력 25, 상태 이상 내성 15, 모든 속성 내성 15% 증가',\n",
       "   'skill_icon': 'https://open.api.nexon.com/static/maplestory/SkillIcon/KFHCLHOBJF.png'},\n",
       "  {'skill_name': '시프 커닝',\n",
       "   'skill_description': '[마스터 레벨 : 6]\\r\\n도적 특유의 교활함을 발휘해 적을 약화시키면 데미지가 증가한다.\\n재사용 대기시간 초기화, 버프 지속시간 증가의 효과를 받지 않는다.',\n",
       "   'skill_level': 6,\n",
       "   'skill_effect': '적에게 상태 이상을 적용시키면 10초 동안 데미지 18% 증가\\n재발동 대기시간 20초 ',\n",
       "   'skill_icon': 'https://open.api.nexon.com/static/maplestory/SkillIcon/KFHCLHMGLA.png'},\n",
       "  {'skill_name': '와일드 레이지',\n",
       "   'skill_description': '[마스터 레벨 : 2]\\r\\n분노로 인해 데미지가 증가한다.',\n",
       "   'skill_level': 2,\n",
       "   'skill_effect': '데미지 10% 증가',\n",
       "   'skill_icon': 'https://open.api.nexon.com/static/maplestory/SkillIcon/KFHCLHOBJA.png'},\n",
       "  {'skill_name': '인텐시브 인썰트',\n",
       "   'skill_description': '[마스터 레벨 : 2]\\r\\n자신보다 약한 적에겐 더 효과적인 공격을 가한다.',\n",
       "   'skill_level': 2,\n",
       "   'skill_effect': '캐릭터보다 레벨이 낮은 몬스터 공격 시 데미지 6% 증가, 상태 이상에 걸린 몬스터 공격 시 데미지 6% 증가',\n",
       "   'skill_icon': 'https://open.api.nexon.com/static/maplestory/SkillIcon/KFHCLHODKB.png'},\n",
       "  {'skill_name': '임피리컬 널리지',\n",
       "   'skill_description': '[마스터 레벨 : 6]\\r\\n실전적인 탐구를 통해 약점을 파악하여 해당 적에 대한 데미지와 방어율 무시를 점차 증가시킨다.',\n",
       "   'skill_level': 6,\n",
       "   'skill_effect': '공격한 적 중 최대 HP가 가장 높은 적에 대한 약점을 25% 확률로 파악, 파악한 약점은 10초 동안 지속되며 최대 3회까지 중첩\\n중첩 당 데미지 3%, 방어율 무시 3% 증가',\n",
       "   'skill_icon': 'https://open.api.nexon.com/static/maplestory/SkillIcon/KFHCLHMGKC.png'},\n",
       "  {'skill_name': '판단',\n",
       "   'skill_description': '[마스터 레벨 : 2]\\r\\n타고난 판단력으로 적에게 가능한 최고의 치명상을 입힌다.',\n",
       "   'skill_level': 2,\n",
       "   'skill_effect': ' 크리티컬 데미지 4% 증가',\n",
       "   'skill_icon': 'https://open.api.nexon.com/static/maplestory/SkillIcon/KFHCLHOAEI.png'},\n",
       "  {'skill_name': '무아',\n",
       "   'skill_description': '[마스터 레벨 : 2]\\r\\n자신을 잊어버릴 정도로 전투에 집중한다.\\n일정 시간 동안 전투 상태가 지속되면 데미지가 증가한다.',\n",
       "   'skill_level': 2,\n",
       "   'skill_effect': '전투 상태가 5초 지속되면 발동되며 최대 5회 중첩가능, 지속시간 5초\\n발동 시 데미지 1% 증가, 중첩당 데미지 2% 추가 증가',\n",
       "   'skill_icon': 'https://open.api.nexon.com/static/maplestory/SkillIcon/KFHCLHOENE.png'},\n",
       "  {'skill_name': '빛의 수호',\n",
       "   'skill_description': '[마스터 레벨 : 2]\\r\\n빛의 기사 미하일의 수호를 받아 일정 시간 동안 상태 이상 내성이 증가한다.',\n",
       "   'skill_level': 2,\n",
       "   'skill_effect': '15초 동안 상태 이상 내성 100 증가\\n재사용 대기시간 120초',\n",
       "   'skill_icon': 'https://open.api.nexon.com/static/maplestory/SkillIcon/KFHCLHPAIA.png'},\n",
       "  {'skill_name': '인빈서블 빌리프',\n",
       "   'skill_description': '[마스터 레벨 : 6]\\r\\n꺾이지 않는 신념을 가져 위기 상황일 때 HP를 대량으로 회복한다.\\n마을 및 특정한 회복 불가 상황에서는 발동되지 않고 재사용 대기시간 초기화, 버프 지속시간 증가, 회복 스킬 효율 증가 및 감소의 효과를 받지 않는다.\\n월드 내 서로 다른 모험가 전사 직업군이 존재할 경우 한 캐릭터에 최대 3번 중복해서 링크 스킬 지급이 가능하다.',\n",
       "   'skill_level': 4,\n",
       "   'skill_effect': '현재 HP가 최대 HP의 15% 이하가 되었을 때 자동 발동되어 3초 동안 1초 마다 최대 HP의 29% 회복\\n재발동 대기시간 290초',\n",
       "   'skill_icon': 'https://open.api.nexon.com/static/maplestory/SkillIcon/KFHCLHMGJI.png'},\n",
       "  {'skill_name': '소울 컨트랙트',\n",
       "   'skill_description': '[마스터 레벨 : 2]\\r\\n에스카다와의 계약을 통해 순간적으로 데미지를 극대화한다.',\n",
       "   'skill_level': 2,\n",
       "   'skill_effect': '10초 동안 데미지 45% 증가\\n재사용 대기시간 60초',\n",
       "   'skill_icon': 'https://open.api.nexon.com/static/maplestory/SkillIcon/KFHCLHPAJF.png'}],\n",
       " 'character_link_skill_preset_3': [{'skill_name': '콤보킬 어드밴티지',\n",
       "   'skill_description': '[마스터 레벨 : 2]\\r\\n폴암의 정령 마하의 신비한 힘을 통해 콤보 플레이에 대한 축복을 받는다.',\n",
       "   'skill_level': 2,\n",
       "   'skill_effect': '영구적으로 콤보킬 구슬 경험치 획득량 650% 추가 획득',\n",
       "   'skill_icon': 'https://open.api.nexon.com/static/maplestory/SkillIcon/KFHCLHOCLA.png'},\n",
       "  {'skill_name': '자연의 벗',\n",
       "   'skill_description': '[마스터 레벨 : 2]\\r\\n주변의 자연과 친구가 되어 도움을 받는다. 신비한 자연의 힘을 견디지 못하는 약한 몬스터에게는 더 큰 효과가 있다.',\n",
       "   'skill_level': 2,\n",
       "   'skill_effect': '데미지 5% 증가\\n일반 몬스터 20명 처치 시 자연의 도움 발동, 자연의 도움 발동 시 30초 동안 일반 몬스터 공격 시 데미지 11% 증가\\n재발동 대기시간 30초',\n",
       "   'skill_icon': 'https://open.api.nexon.com/static/maplestory/SkillIcon/KFHCLHNBJI.png'},\n",
       "  {'skill_name': '엘프의 축복',\n",
       "   'skill_description': '[마스터 레벨 : 2]\\r\\n고대 엘프의 축복으로 에우렐로 돌아갈 수 있고,  영구적으로 경험치를 추가로 받을 수 있다.',\n",
       "   'skill_level': 2,\n",
       "   'skill_effect': '사용 시 에우렐로 귀환\\n재사용 대기시간 1800초\\n추가효과 : 영구적으로 경험치 15% 추가 획득',\n",
       "   'skill_icon': 'https://open.api.nexon.com/static/maplestory/SkillIcon/KFHCLHPBIA.png'},\n",
       "  {'skill_name': '룬 퍼시스턴스',\n",
       "   'skill_description': '[마스터 레벨 : 2]\\r\\n룬의 마력을 증폭시켜 해방된 룬의 힘 지속시간을 증가 시킨다.',\n",
       "   'skill_level': 2,\n",
       "   'skill_effect': '해방된 룬의 힘 지속시간 50% 증가',\n",
       "   'skill_icon': 'https://open.api.nexon.com/static/maplestory/SkillIcon/KFHCLHOCKJ.png'},\n",
       "  {'skill_name': '전투의 흐름',\n",
       "   'skill_description': '[마스터 레벨 : 2]\\r\\n전투의 흐름이 끊기지 않게 유지한다.\\n일정 시간 내에 특정 거리를 이동 할 때 마다 데미지가 증가한다.',\n",
       "   'skill_level': 2,\n",
       "   'skill_effect': '일정 거리 이동 시 발동되며 최대 4회 중첩가능, 지속시간 10초\\n각 중첩당 데미지 3% 증가  ',\n",
       "   'skill_icon': 'https://open.api.nexon.com/static/maplestory/SkillIcon/KFHCLHODKI.png'},\n",
       "  {'skill_name': '자신감',\n",
       "   'skill_description': '[마스터 레벨 : 2]\\r\\n강한 적에게도 위축되지 않는 자신감으로 적의 방어율을 일정 부분 무시하고 체력이 가득 찬 몬스터를 공격할 때 더 큰 피해를 입힌다.',\n",
       "   'skill_level': 2,\n",
       "   'skill_effect': '방어율 무시 10% 추가, HP가 100%인 몬스터 공격 시 데미지 14% 증가',\n",
       "   'skill_icon': 'https://open.api.nexon.com/static/maplestory/SkillIcon/KFHCLHOHMJ.png'},\n",
       "  {'skill_name': '하이브리드 로직',\n",
       "   'skill_description': '[마스터 레벨 : 2]\\r\\n하이브리드 로직 디자인을 적용하여 모든 능력치가 영구히 증가한다.',\n",
       "   'skill_level': 2,\n",
       "   'skill_effect': '모든 능력치 10% 증가',\n",
       "   'skill_icon': 'https://open.api.nexon.com/static/maplestory/SkillIcon/KFHCLHOBIH.png'},\n",
       "  {'skill_name': '판단',\n",
       "   'skill_description': '[마스터 레벨 : 2]\\r\\n타고난 판단력으로 적에게 가능한 최고의 치명상을 입힌다.',\n",
       "   'skill_level': 2,\n",
       "   'skill_effect': ' 크리티컬 데미지 4% 증가',\n",
       "   'skill_icon': 'https://open.api.nexon.com/static/maplestory/SkillIcon/KFHCLHOAEI.png'},\n",
       "  {'skill_name': '무아',\n",
       "   'skill_description': '[마스터 레벨 : 2]\\r\\n자신을 잊어버릴 정도로 전투에 집중한다.\\n일정 시간 동안 전투 상태가 지속되면 데미지가 증가한다.',\n",
       "   'skill_level': 2,\n",
       "   'skill_effect': '전투 상태가 5초 지속되면 발동되며 최대 5회 중첩가능, 지속시간 5초\\n발동 시 데미지 1% 증가, 중첩당 데미지 2% 추가 증가',\n",
       "   'skill_icon': 'https://open.api.nexon.com/static/maplestory/SkillIcon/KFHCLHOENE.png'},\n",
       "  {'skill_name': '시그너스 블레스',\n",
       "   'skill_description': '[마스터 레벨 : 10]\\r\\n각성한 여제의 가호가 몸에 깃들어 적의 위협으로부터 벗어난다.',\n",
       "   'skill_level': 10,\n",
       "   'skill_effect': '공격력과 마력 25, 상태 이상 내성 15, 모든 속성 내성 15% 증가',\n",
       "   'skill_icon': 'https://open.api.nexon.com/static/maplestory/SkillIcon/KFHCLHOBJF.png'},\n",
       "  {'skill_name': '와일드 레이지',\n",
       "   'skill_description': '[마스터 레벨 : 2]\\r\\n분노로 인해 데미지가 증가한다.',\n",
       "   'skill_level': 2,\n",
       "   'skill_effect': '데미지 10% 증가',\n",
       "   'skill_icon': 'https://open.api.nexon.com/static/maplestory/SkillIcon/KFHCLHOBJA.png'},\n",
       "  {'skill_name': '인텐시브 인썰트',\n",
       "   'skill_description': '[마스터 레벨 : 2]\\r\\n자신보다 약한 적에겐 더 효과적인 공격을 가한다.',\n",
       "   'skill_level': 2,\n",
       "   'skill_effect': '캐릭터보다 레벨이 낮은 몬스터 공격 시 데미지 6% 증가, 상태 이상에 걸린 몬스터 공격 시 데미지 6% 증가',\n",
       "   'skill_icon': 'https://open.api.nexon.com/static/maplestory/SkillIcon/KFHCLHODKB.png'}],\n",
       " 'character_owned_link_skill': {'skill_name': '어드벤쳐러 큐리어스(신궁)',\n",
       "  'skill_description': '[마스터 레벨 : 6]\\r\\n특유의 호기심을 발휘해 몬스터 컬렉션 등록 확률과 크리티컬 확률을 증가시킨다.\\n몬스터 컬렉션 등록 확률은 기존 확률에 곱적용으로 적용된다.\\n월드 내 서로 다른 모험가 궁수 직업군이 존재할 경우 한 캐릭터에 최대 3번 중복해서 링크 스킬 지급이 가능하다.',\n",
       "  'skill_level': 6,\n",
       "  'skill_effect': '몬스터 컬렉션 등록 확률 35%, 크리티컬 확률 10% 증가',\n",
       "  'skill_icon': 'https://open.api.nexon.com/static/maplestory/SkillIcon/KFPCLHODJJ.png'},\n",
       " 'character_owned_link_skill_preset_1': {'skill_name': '어드벤쳐러 큐리어스(신궁)',\n",
       "  'skill_description': '[마스터 레벨 : 6]\\r\\n특유의 호기심을 발휘해 몬스터 컬렉션 등록 확률과 크리티컬 확률을 증가시킨다.\\n몬스터 컬렉션 등록 확률은 기존 확률에 곱적용으로 적용된다.\\n월드 내 서로 다른 모험가 궁수 직업군이 존재할 경우 한 캐릭터에 최대 3번 중복해서 링크 스킬 지급이 가능하다.',\n",
       "  'skill_level': 6,\n",
       "  'skill_effect': '몬스터 컬렉션 등록 확률 35%, 크리티컬 확률 10% 증가',\n",
       "  'skill_icon': 'https://open.api.nexon.com/static/maplestory/SkillIcon/KFPCLHODJJ.png'},\n",
       " 'character_owned_link_skill_preset_2': {'skill_name': '어드벤쳐러 큐리어스(신궁)',\n",
       "  'skill_description': '[마스터 레벨 : 6]\\r\\n특유의 호기심을 발휘해 몬스터 컬렉션 등록 확률과 크리티컬 확률을 증가시킨다.\\n몬스터 컬렉션 등록 확률은 기존 확률에 곱적용으로 적용된다.\\n월드 내 서로 다른 모험가 궁수 직업군이 존재할 경우 한 캐릭터에 최대 3번 중복해서 링크 스킬 지급이 가능하다.',\n",
       "  'skill_level': 6,\n",
       "  'skill_effect': '몬스터 컬렉션 등록 확률 35%, 크리티컬 확률 10% 증가',\n",
       "  'skill_icon': 'https://open.api.nexon.com/static/maplestory/SkillIcon/KFPCLHODJJ.png'},\n",
       " 'character_owned_link_skill_preset_3': {'skill_name': '어드벤쳐러 큐리어스(신궁)',\n",
       "  'skill_description': '[마스터 레벨 : 6]\\r\\n특유의 호기심을 발휘해 몬스터 컬렉션 등록 확률과 크리티컬 확률을 증가시킨다.\\n몬스터 컬렉션 등록 확률은 기존 확률에 곱적용으로 적용된다.\\n월드 내 서로 다른 모험가 궁수 직업군이 존재할 경우 한 캐릭터에 최대 3번 중복해서 링크 스킬 지급이 가능하다.',\n",
       "  'skill_level': 6,\n",
       "  'skill_effect': '몬스터 컬렉션 등록 확률 35%, 크리티컬 확률 10% 증가',\n",
       "  'skill_icon': 'https://open.api.nexon.com/static/maplestory/SkillIcon/KFPCLHODJJ.png'}}"
      ]
     },
     "execution_count": 39,
     "metadata": {},
     "output_type": "execute_result"
    }
   ],
   "source": [
    "basic[-13]"
   ]
  },
  {
   "cell_type": "code",
   "execution_count": null,
   "metadata": {},
   "outputs": [],
   "source": []
  }
 ],
 "metadata": {
  "kernelspec": {
   "display_name": "[tensorflow]",
   "language": "python",
   "name": "python3"
  },
  "language_info": {
   "codemirror_mode": {
    "name": "ipython",
    "version": 3
   },
   "file_extension": ".py",
   "mimetype": "text/x-python",
   "name": "python",
   "nbconvert_exporter": "python",
   "pygments_lexer": "ipython3",
   "version": "3.10.14"
  }
 },
 "nbformat": 4,
 "nbformat_minor": 2
}
