{
 "cells": [
  {
   "cell_type": "code",
   "execution_count": 63,
   "metadata": {},
   "outputs": [],
   "source": [
    "import pandas as pd\n",
    "import requests\n",
    "from tqdm import tqdm\n",
    "import time\n",
    "from datetime import datetime\n",
    "import numpy as np\n",
    "import csv\n",
    "import pickle\n",
    "import urllib\n",
    "import json"
   ]
  },
  {
   "cell_type": "code",
   "execution_count": 2,
   "metadata": {},
   "outputs": [],
   "source": [
    "# api key\n",
    "headers = {\n",
    "  \"x-nxopen-api-key\": \"test_b7a2709bb4fe7572494ad6f8f3ce6f4a9a08ece44f72cc3275a9c0fe0bc1031c1007179e9a522fc8756d42cac9e0b876\",\n",
    "}\n"
   ]
  },
  {
   "cell_type": "code",
   "execution_count": 3,
   "metadata": {},
   "outputs": [],
   "source": [
    "# 현재 날짜\n",
    "now = datetime.now()\n",
    "now_date = now.date()"
   ]
  },
  {
   "cell_type": "code",
   "execution_count": 4,
   "metadata": {},
   "outputs": [],
   "source": [
    "job_list = ['warrior','warrior_hero','warrior_paladin','warrior_darkkinght','magician','magician_fire','magician_ice','magician_bishop','archer','archer_bowmaster','archer_marksman','archer_pathfinder','thief','thief_nightlord','thief_shadower','thief_blademaster','pirate','pirate_viper','pirate_captain','pirate_cannon','cygnus','cygnus_soul','cygnus_flame','cygnus_wind','cygnus_night','cygnus_striker','cygnus_mihile','aran','evan','resistance','resistance_battle','resistance_wild','resistance_mechanic','resistance_slayer','resistance_avenger','resistance_xenon','resistance_blaster','mercedes','phantom','luminous','kaiser','angelic','zero','shade','kinesis','cadena','illium','ark','hoyoung','adele','kain','lara','khali']"
   ]
  },
  {
   "cell_type": "code",
   "execution_count": 5,
   "metadata": {},
   "outputs": [],
   "source": [
    "# pickle 파일 읽어오기\n",
    "for i in range(len(job_list)) :\n",
    "    with open(f'{job_list[i]}_rank', 'rb') as fr :\n",
    "        globals()[f'{job_list[i]}_rank'] = pickle.load(fr)"
   ]
  },
  {
   "cell_type": "code",
   "execution_count": 54,
   "metadata": {},
   "outputs": [
    {
     "name": "stdout",
     "output_type": "stream",
     "text": [
      "archer_marksman\n"
     ]
    }
   ],
   "source": [
    "# ocid data가 가장 많이 수집된 파일 찾기\n",
    "len_list = []\n",
    "for i in range(0,47) :\n",
    "    a = []\n",
    "    with open(f'{job_list[i]}_ocid', newline='') as f:\n",
    "        csv_reader = csv.reader(f)\n",
    "        for row in csv_reader :\n",
    "            a.append(row)\n",
    "    len_list.append(len(a[0]))\n",
    "\n",
    "print(job_list[len_list.index(max(len_list))])"
   ]
  },
  {
   "cell_type": "code",
   "execution_count": 80,
   "metadata": {},
   "outputs": [
    {
     "data": {
      "text/plain": [
       "155"
      ]
     },
     "execution_count": 80,
     "metadata": {},
     "output_type": "execute_result"
    }
   ],
   "source": [
    "archer_marksman_ocid = []\n",
    "with open('archer_marksman_ocid', newline = '') as f:\n",
    "    csv_reader = csv.reader(f)\n",
    "    for row in csv_reader :\n",
    "        archer_marksman_ocid.append(row)\n",
    "len(archer_marksman_ocid[0])"
   ]
  },
  {
   "cell_type": "code",
   "execution_count": null,
   "metadata": {},
   "outputs": [],
   "source": [
    "# 현재 날짜 기준 수집되지 않는 데이터 있음\n",
    "# 하루 전 데이터로 수집\n",
    "# 스킬 데이터는 차수마다 url이 나눠져 있으므로 따로 수집\n",
    "# variousdata_url =[# \n",
    "    f'https://open.api.nexon.com/maplestory/v1/character/basic?ocid={ocid}&date=2024-05-20',\n",
    "    f'https://open.api.nexon.com/maplestory/v1/character/stat?ocid={ocid}&date=2024-05-20',\n",
    "    f'https://open.api.nexon.com/maplestory/v1/character/hyper-stat?ocid={ocid}&date=2024-05-20',\n",
    "    f'https://open.api.nexon.com/maplestory/v1/character/ability?ocid={ocid}&date=2024-05-20',\n",
    "    f'https://open.api.nexon.com/maplestory/v1/character/item-equipment?ocid={ocid}&date=2024-05-20',\n",
    "    f'https://open.api.nexon.com/maplestory/v1/character/cashitem-equipment?ocid={ocid}&date=2024-05-20',\n",
    "    f'https://open.api.nexon.com/maplestory/v1/character/symbol-equipment?ocid={ocid}&date=2024-05-20',\n",
    "    f'https://open.api.nexon.com/maplestory/v1/character/set-effect?ocid={ocid}&date=2024-05-20',\n",
    "    f'https://open.api.nexon.com/maplestory/v1/character/android-equipment?ocid={ocid}&date=2024-05-20',\n",
    "    f'https://open.api.nexon.com/maplestory/v1/character/pet-equipment?ocid={ocid}&date=2024-05-20',\n",
    "    f'https://open.api.nexon.com/maplestory/v1/character/link-skill?ocid={ocid}&date=2024-05-20',\n",
    "    f'https://open.api.nexon.com/maplestory/v1/character/vmatrix?ocid={ocid}&date=2024-05-20',\n",
    "    f'https://open.api.nexon.com/maplestory/v1/character/hexamatrix?ocid={ocid}&date=2024-05-20',\n",
    "    f'https://open.api.nexon.com/maplestory/v1/character/hexamatrix-stat?ocid={ocid}&date=2024-05-20',\n",
    "    f'https://open.api.nexon.com/maplestory/v1/character/dojang?ocid={ocid}&date=2024-05-20'\n",
    "]"
   ]
  },
  {
   "cell_type": "code",
   "execution_count": 75,
   "metadata": {},
   "outputs": [],
   "source": [
    "# variousdata_title = ['basic', 'stat', 'hyper-stat', 'ability', 'item-equipment', 'cashitem-equipment', 'symbol-equipment', 'set-effect', 'android-equipment', 'pet-equipment', 'link-skill', 'vmatrix', 'hexamatrix', 'hexamatrix-stat', 'dojang']\n",
    "# name_list = ['basic_info', 'com_abil', 'hyper_stat', 'abil_info', 'item_info', 'cash_item_info', 'symbol_info', 'set_info', 'android_info', 'pet_info', 'link_info', 'vmatrix_info', 'hexacore_info', 'hexa_info', 'dojang_info']"
   ]
  },
  {
   "cell_type": "code",
   "execution_count": 115,
   "metadata": {},
   "outputs": [],
   "source": [
    "# API 일일 요청 제한 건수 제한이 있어 6개씩 진행\n",
    "# basic 완료\n",
    "# title_list = ['basic', 'stat', 'hyper-stat', 'ability', 'item-equipment']\n",
    "# title_list = ['cashitem-equipment']\n",
    "ocid_list = archer_marksman_ocid[0]"
   ]
  },
  {
   "cell_type": "code",
   "execution_count": 116,
   "metadata": {},
   "outputs": [],
   "source": [
    "# 스킬 정보 제외 데이터 수집기\n",
    "def variousdata_collector(title_list, ocid_list) :\n",
    "    for title in title_list :\n",
    "        globals()[f'{title}_info'] = []\n",
    "    for title in title_list :\n",
    "        for ocid in ocid_list :\n",
    "            url = f'https://open.api.nexon.com/maplestory/v1/character/{title}?ocid={ocid}&date=2024-05-20'\n",
    "            request = requests.get(url, headers=headers)\n",
    "            result = request.json()\n",
    "            globals()[f'{title}_info'].append(result)\n",
    "            time.sleep(0.3)\n",
    "        with open(f'{title}_info.json', 'w') as f:\n",
    "            json.dump(globals()[f'{title}_info'], f)"
   ]
  },
  {
   "cell_type": "code",
   "execution_count": 119,
   "metadata": {},
   "outputs": [],
   "source": [
    "with open(\"cashitem-equipment_info.json\", \"r\") as f:\n",
    "\tbasic = json.load(f)"
   ]
  },
  {
   "cell_type": "code",
   "execution_count": 120,
   "metadata": {},
   "outputs": [
    {
     "data": {
      "text/plain": [
       "155"
      ]
     },
     "execution_count": 120,
     "metadata": {},
     "output_type": "execute_result"
    }
   ],
   "source": [
    "len(basic)"
   ]
  },
  {
   "cell_type": "code",
   "execution_count": 117,
   "metadata": {},
   "outputs": [],
   "source": [
    "variousdata_collector(title_list, ocid_list)"
   ]
  },
  {
   "cell_type": "code",
   "execution_count": 124,
   "metadata": {},
   "outputs": [
    {
     "data": {
      "text/plain": [
       "{'date': '2024-05-20T00:00+09:00',\n",
       " 'character_gender': '여',\n",
       " 'character_class': '신궁',\n",
       " 'preset_no': 1,\n",
       " 'cash_item_equipment_base': [{'cash_item_equipment_part': '모자',\n",
       "   'cash_item_equipment_slot': '모자',\n",
       "   'cash_item_name': '마이 퀸 티아라',\n",
       "   'cash_item_icon': 'https://open.api.nexon.com/static/maplestory/ItemIcon/KEPCNHPE.png',\n",
       "   'cash_item_description': None,\n",
       "   'cash_item_option': [],\n",
       "   'date_expire': None,\n",
       "   'date_option_expire': None,\n",
       "   'cash_item_label': None,\n",
       "   'cash_item_coloring_prism': None,\n",
       "   'item_gender': None},\n",
       "  {'cash_item_equipment_part': '얼굴장식',\n",
       "   'cash_item_equipment_slot': '얼굴장식',\n",
       "   'cash_item_name': '발그레 발그레',\n",
       "   'cash_item_icon': 'https://open.api.nexon.com/static/maplestory/ItemIcon/KEPDJEJI.png',\n",
       "   'cash_item_description': None,\n",
       "   'cash_item_option': [],\n",
       "   'date_expire': None,\n",
       "   'date_option_expire': None,\n",
       "   'cash_item_label': None,\n",
       "   'cash_item_coloring_prism': None,\n",
       "   'item_gender': None},\n",
       "  {'cash_item_equipment_part': '귀고리',\n",
       "   'cash_item_equipment_slot': '귀고리',\n",
       "   'cash_item_name': '투명 귀고리',\n",
       "   'cash_item_icon': 'https://open.api.nexon.com/static/maplestory/ItemIcon/KEPBJHMF.png',\n",
       "   'cash_item_description': None,\n",
       "   'cash_item_option': [],\n",
       "   'date_expire': None,\n",
       "   'date_option_expire': None,\n",
       "   'cash_item_label': None,\n",
       "   'cash_item_coloring_prism': None,\n",
       "   'item_gender': None},\n",
       "  {'cash_item_equipment_part': '한벌옷',\n",
       "   'cash_item_equipment_slot': '상의',\n",
       "   'cash_item_name': '엔들리스 드림',\n",
       "   'cash_item_icon': 'https://open.api.nexon.com/static/maplestory/ItemIcon/KEPHKAPE.png',\n",
       "   'cash_item_description': None,\n",
       "   'cash_item_option': [],\n",
       "   'date_expire': None,\n",
       "   'date_option_expire': None,\n",
       "   'cash_item_label': None,\n",
       "   'cash_item_coloring_prism': None,\n",
       "   'item_gender': '여'},\n",
       "  {'cash_item_equipment_part': '신발',\n",
       "   'cash_item_equipment_slot': '신발',\n",
       "   'cash_item_name': '속박의 매듭',\n",
       "   'cash_item_icon': 'https://open.api.nexon.com/static/maplestory/ItemIcon/KEPFIBKG.png',\n",
       "   'cash_item_description': None,\n",
       "   'cash_item_option': [],\n",
       "   'date_expire': None,\n",
       "   'date_option_expire': None,\n",
       "   'cash_item_label': None,\n",
       "   'cash_item_coloring_prism': None,\n",
       "   'item_gender': None},\n",
       "  {'cash_item_equipment_part': '장갑',\n",
       "   'cash_item_equipment_slot': '장갑',\n",
       "   'cash_item_name': '투명 장갑',\n",
       "   'cash_item_icon': 'https://open.api.nexon.com/static/maplestory/ItemIcon/KEPKJGOD.png',\n",
       "   'cash_item_description': None,\n",
       "   'cash_item_option': [],\n",
       "   'date_expire': None,\n",
       "   'date_option_expire': None,\n",
       "   'cash_item_label': None,\n",
       "   'cash_item_coloring_prism': None,\n",
       "   'item_gender': None},\n",
       "  {'cash_item_equipment_part': '망토',\n",
       "   'cash_item_equipment_slot': '망토',\n",
       "   'cash_item_name': '한밤의 축제',\n",
       "   'cash_item_icon': 'https://open.api.nexon.com/static/maplestory/ItemIcon/KEOCIDID.png',\n",
       "   'cash_item_description': None,\n",
       "   'cash_item_option': [],\n",
       "   'date_expire': None,\n",
       "   'date_option_expire': None,\n",
       "   'cash_item_label': None,\n",
       "   'cash_item_coloring_prism': None,\n",
       "   'item_gender': None},\n",
       "  {'cash_item_equipment_part': '무기',\n",
       "   'cash_item_equipment_slot': '무기',\n",
       "   'cash_item_name': '악몽 시계',\n",
       "   'cash_item_icon': 'https://open.api.nexon.com/static/maplestory/ItemIcon/KEICIFPI.png',\n",
       "   'cash_item_description': '모든 무기에 착용이 가능하다.',\n",
       "   'cash_item_option': [],\n",
       "   'date_expire': None,\n",
       "   'date_option_expire': None,\n",
       "   'cash_item_label': None,\n",
       "   'cash_item_coloring_prism': None,\n",
       "   'item_gender': None},\n",
       "  {'cash_item_equipment_part': '반지',\n",
       "   'cash_item_equipment_slot': '반지1',\n",
       "   'cash_item_name': '경험치 부스트 링(15%)',\n",
       "   'cash_item_icon': 'https://open.api.nexon.com/static/maplestory/ItemIcon/KEODPEMH.png',\n",
       "   'cash_item_description': '장착 후 사냥 시 경험치 부스트 링의 효과를 받아 15% 추가 경험치를 획득한다.',\n",
       "   'cash_item_option': [],\n",
       "   'date_expire': '2024-06-16T09:37+09:00',\n",
       "   'date_option_expire': None,\n",
       "   'cash_item_label': None,\n",
       "   'cash_item_coloring_prism': None,\n",
       "   'item_gender': None},\n",
       "  {'cash_item_equipment_part': '반지',\n",
       "   'cash_item_equipment_slot': '반지2',\n",
       "   'cash_item_name': '혈맹의 반지',\n",
       "   'cash_item_icon': 'https://open.api.nexon.com/static/maplestory/ItemIcon/KEODPHOB.png',\n",
       "   'cash_item_description': '혈맹의 수호로 반지 착용자는 사냥 시 10%의 혈맹 보너스 경험치를 획득할 수 있다. 혈맹의 반지 착용자가 파티에 늘어날수록 한 명 당 5%씩의 혈맹 보너스 경험치를 추가로 받을 수 있다. 혈맹의 반지는 1개만 착용할 수 있고 파티원이 동일한 맵 내에 위치해야 효과를 받을 수 있다.\\n \\n본인 착용시 10% 보너스 경험치\\n 1인 추가 착용 시 15% 보너스 경험치\\n 2인 추가 착용 시 20% 보너스 경험치\\n 3인 추가 착용 시 25% 보너스 경험치\\n 4인 추가 착용 시 30% 보너스 경험치',\n",
       "   'cash_item_option': [],\n",
       "   'date_expire': '2024-06-16T22:43+09:00',\n",
       "   'date_option_expire': None,\n",
       "   'cash_item_label': None,\n",
       "   'cash_item_coloring_prism': None,\n",
       "   'item_gender': None},\n",
       "  {'cash_item_equipment_part': '반지',\n",
       "   'cash_item_equipment_slot': '반지3',\n",
       "   'cash_item_name': '세이비어 명찰 반지',\n",
       "   'cash_item_icon': 'https://open.api.nexon.com/static/maplestory/ItemIcon/KEODOEJE.png',\n",
       "   'cash_item_description': '캐릭터 이름이 세이비어 명찰에 나타난다.',\n",
       "   'cash_item_option': [],\n",
       "   'date_expire': None,\n",
       "   'date_option_expire': None,\n",
       "   'cash_item_label': None,\n",
       "   'cash_item_coloring_prism': None,\n",
       "   'item_gender': None},\n",
       "  {'cash_item_equipment_part': '반지',\n",
       "   'cash_item_equipment_slot': '반지4',\n",
       "   'cash_item_name': '세이비어 말풍선 반지',\n",
       "   'cash_item_icon': 'https://open.api.nexon.com/static/maplestory/ItemIcon/KEODOFJC.png',\n",
       "   'cash_item_description': '캐릭터가 대화를 할 때, 세이비어 말풍선이 나타난다.',\n",
       "   'cash_item_option': [],\n",
       "   'date_expire': None,\n",
       "   'date_option_expire': None,\n",
       "   'cash_item_label': None,\n",
       "   'cash_item_coloring_prism': None,\n",
       "   'item_gender': None}],\n",
       " 'cash_item_equipment_preset_1': [{'cash_item_equipment_part': '모자',\n",
       "   'cash_item_equipment_slot': '모자',\n",
       "   'cash_item_name': '크로스 윙',\n",
       "   'cash_item_icon': 'https://open.api.nexon.com/static/maplestory/ItemIcon/KEPCPDLB.png',\n",
       "   'cash_item_description': None,\n",
       "   'cash_item_option': [],\n",
       "   'date_expire': None,\n",
       "   'date_option_expire': None,\n",
       "   'cash_item_label': '마스터라벨',\n",
       "   'cash_item_coloring_prism': None,\n",
       "   'item_gender': None},\n",
       "  {'cash_item_equipment_part': '얼굴장식',\n",
       "   'cash_item_equipment_slot': '얼굴장식',\n",
       "   'cash_item_name': '아일린 블러셔',\n",
       "   'cash_item_icon': 'https://open.api.nexon.com/static/maplestory/ItemIcon/KEPDJAPI.png',\n",
       "   'cash_item_description': None,\n",
       "   'cash_item_option': [],\n",
       "   'date_expire': None,\n",
       "   'date_option_expire': None,\n",
       "   'cash_item_label': None,\n",
       "   'cash_item_coloring_prism': None,\n",
       "   'item_gender': None},\n",
       "  {'cash_item_equipment_part': '눈장식',\n",
       "   'cash_item_equipment_slot': '눈장식',\n",
       "   'cash_item_name': '투명 안경',\n",
       "   'cash_item_icon': 'https://open.api.nexon.com/static/maplestory/ItemIcon/KEPAJHJI.png',\n",
       "   'cash_item_description': None,\n",
       "   'cash_item_option': [],\n",
       "   'date_expire': None,\n",
       "   'date_option_expire': None,\n",
       "   'cash_item_label': None,\n",
       "   'cash_item_coloring_prism': None,\n",
       "   'item_gender': None},\n",
       "  {'cash_item_equipment_part': '한벌옷',\n",
       "   'cash_item_equipment_slot': '상의',\n",
       "   'cash_item_name': '판타스마 벨라',\n",
       "   'cash_item_icon': 'https://open.api.nexon.com/static/maplestory/ItemIcon/KEPHKDMH.png',\n",
       "   'cash_item_description': None,\n",
       "   'cash_item_option': [],\n",
       "   'date_expire': None,\n",
       "   'date_option_expire': None,\n",
       "   'cash_item_label': '마스터라벨',\n",
       "   'cash_item_coloring_prism': None,\n",
       "   'item_gender': '여'},\n",
       "  {'cash_item_equipment_part': '신발',\n",
       "   'cash_item_equipment_slot': '신발',\n",
       "   'cash_item_name': '별빛 걸음',\n",
       "   'cash_item_icon': 'https://open.api.nexon.com/static/maplestory/ItemIcon/KEPFIDME.png',\n",
       "   'cash_item_description': '착용 시 일부 동작에서 공중에 떠있을 수 있습니다.',\n",
       "   'cash_item_option': [],\n",
       "   'date_expire': None,\n",
       "   'date_option_expire': None,\n",
       "   'cash_item_label': '마스터라벨',\n",
       "   'cash_item_coloring_prism': None,\n",
       "   'item_gender': None},\n",
       "  {'cash_item_equipment_part': '망토',\n",
       "   'cash_item_equipment_slot': '망토',\n",
       "   'cash_item_name': '쏟아지는 햇살',\n",
       "   'cash_item_icon': 'https://open.api.nexon.com/static/maplestory/ItemIcon/KEOCIFID.png',\n",
       "   'cash_item_description': None,\n",
       "   'cash_item_option': [],\n",
       "   'date_expire': None,\n",
       "   'date_option_expire': None,\n",
       "   'cash_item_label': '스페셜라벨',\n",
       "   'cash_item_coloring_prism': None,\n",
       "   'item_gender': None},\n",
       "  {'cash_item_equipment_part': '무기',\n",
       "   'cash_item_equipment_slot': '무기',\n",
       "   'cash_item_name': '죽음의 데스',\n",
       "   'cash_item_icon': 'https://open.api.nexon.com/static/maplestory/ItemIcon/KEICJCIE.png',\n",
       "   'cash_item_description': '모든 무기에 착용이 가능한 무기이다.',\n",
       "   'cash_item_option': [],\n",
       "   'date_expire': None,\n",
       "   'date_option_expire': None,\n",
       "   'cash_item_label': '마스터라벨',\n",
       "   'cash_item_coloring_prism': None,\n",
       "   'item_gender': None}],\n",
       " 'cash_item_equipment_preset_2': [{'cash_item_equipment_part': '모자',\n",
       "   'cash_item_equipment_slot': '모자',\n",
       "   'cash_item_name': '블랙빈 수면안대',\n",
       "   'cash_item_icon': 'https://open.api.nexon.com/static/maplestory/ItemIcon/KEPCNEJD.png',\n",
       "   'cash_item_description': None,\n",
       "   'cash_item_option': [],\n",
       "   'date_expire': None,\n",
       "   'date_option_expire': None,\n",
       "   'cash_item_label': None,\n",
       "   'cash_item_coloring_prism': None,\n",
       "   'item_gender': None},\n",
       "  {'cash_item_equipment_part': '한벌옷',\n",
       "   'cash_item_equipment_slot': '상의',\n",
       "   'cash_item_name': '팔랑 유령 러플',\n",
       "   'cash_item_icon': 'https://open.api.nexon.com/static/maplestory/ItemIcon/KEPHIBNG.png',\n",
       "   'cash_item_description': None,\n",
       "   'cash_item_option': [],\n",
       "   'date_expire': None,\n",
       "   'date_option_expire': None,\n",
       "   'cash_item_label': None,\n",
       "   'cash_item_coloring_prism': None,\n",
       "   'item_gender': None},\n",
       "  {'cash_item_equipment_part': '망토',\n",
       "   'cash_item_equipment_slot': '망토',\n",
       "   'cash_item_name': '은하의 파편',\n",
       "   'cash_item_icon': 'https://open.api.nexon.com/static/maplestory/ItemIcon/KEOCIBLA.png',\n",
       "   'cash_item_description': '착용 시 일부 동작에서 공중에 떠있을 수 있습니다.',\n",
       "   'cash_item_option': [],\n",
       "   'date_expire': None,\n",
       "   'date_option_expire': None,\n",
       "   'cash_item_label': None,\n",
       "   'cash_item_coloring_prism': None,\n",
       "   'item_gender': None}],\n",
       " 'cash_item_equipment_preset_3': [],\n",
       " 'additional_cash_item_equipment_base': [],\n",
       " 'additional_cash_item_equipment_preset_1': [],\n",
       " 'additional_cash_item_equipment_preset_2': [],\n",
       " 'additional_cash_item_equipment_preset_3': []}"
      ]
     },
     "execution_count": 124,
     "metadata": {},
     "output_type": "execute_result"
    }
   ],
   "source": [
    "basic[5]"
   ]
  },
  {
   "cell_type": "code",
   "execution_count": null,
   "metadata": {},
   "outputs": [],
   "source": []
  }
 ],
 "metadata": {
  "kernelspec": {
   "display_name": "[tensorflow]",
   "language": "python",
   "name": "python3"
  },
  "language_info": {
   "codemirror_mode": {
    "name": "ipython",
    "version": 3
   },
   "file_extension": ".py",
   "mimetype": "text/x-python",
   "name": "python",
   "nbconvert_exporter": "python",
   "pygments_lexer": "ipython3",
   "version": "3.10.14"
  }
 },
 "nbformat": 4,
 "nbformat_minor": 2
}
