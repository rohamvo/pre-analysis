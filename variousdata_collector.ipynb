{
 "cells": [
  {
   "cell_type": "code",
   "execution_count": 1,
   "metadata": {},
   "outputs": [],
   "source": [
    "import pandas as pd\n",
    "import requests\n",
    "from tqdm import tqdm\n",
    "import time\n",
    "from datetime import datetime\n",
    "import numpy as np\n",
    "import csv\n",
    "import pickle\n",
    "import urllib\n",
    "import json"
   ]
  },
  {
   "cell_type": "code",
   "execution_count": 2,
   "metadata": {},
   "outputs": [],
   "source": [
    "# api key\n",
    "headers = {\n",
    "  \"x-nxopen-api-key\": \"test_b7a2709bb4fe7572494ad6f8f3ce6f4a9a08ece44f72cc3275a9c0fe0bc1031c1007179e9a522fc8756d42cac9e0b876\",\n",
    "}\n"
   ]
  },
  {
   "cell_type": "code",
   "execution_count": 3,
   "metadata": {},
   "outputs": [],
   "source": [
    "# 현재 날짜\n",
    "now = datetime.now()\n",
    "now_date = now.date()"
   ]
  },
  {
   "cell_type": "code",
   "execution_count": 4,
   "metadata": {},
   "outputs": [],
   "source": [
    "job_list = ['warrior','warrior_hero','warrior_paladin','warrior_darkkinght','magician','magician_fire','magician_ice','magician_bishop','archer','archer_bowmaster','archer_marksman','archer_pathfinder','thief','thief_nightlord','thief_shadower','thief_blademaster','pirate','pirate_viper','pirate_captain','pirate_cannon','cygnus','cygnus_soul','cygnus_flame','cygnus_wind','cygnus_night','cygnus_striker','cygnus_mihile','aran','evan','resistance','resistance_battle','resistance_wild','resistance_mechanic','resistance_slayer','resistance_avenger','resistance_xenon','resistance_blaster','mercedes','phantom','luminous','kaiser','angelic','zero','shade','kinesis','cadena','illium','ark','hoyoung','adele','kain','lara','khali']"
   ]
  },
  {
   "cell_type": "code",
   "execution_count": 5,
   "metadata": {},
   "outputs": [],
   "source": [
    "# pickle 파일 읽어오기\n",
    "for i in range(len(job_list)) :\n",
    "    with open(f'{job_list[i]}_rank', 'rb') as fr :\n",
    "        globals()[f'{job_list[i]}_rank'] = pickle.load(fr)"
   ]
  },
  {
   "cell_type": "code",
   "execution_count": 7,
   "metadata": {},
   "outputs": [
    {
     "name": "stdout",
     "output_type": "stream",
     "text": [
      "archer_marksman\n"
     ]
    }
   ],
   "source": [
    "# ocid data가 가장 많이 수집된 파일 찾기\n",
    "len_list = []\n",
    "for i in range(0,47) :\n",
    "    a = []\n",
    "    with open(f'{job_list[i]}_ocid', newline='') as f:\n",
    "        csv_reader = csv.reader(f)\n",
    "        for row in csv_reader :\n",
    "            a.append(row)\n",
    "    len_list.append(len(a[0]))\n",
    "\n",
    "print(job_list[len_list.index(max(len_list))])"
   ]
  },
  {
   "cell_type": "code",
   "execution_count": 6,
   "metadata": {},
   "outputs": [
    {
     "data": {
      "text/plain": [
       "155"
      ]
     },
     "execution_count": 6,
     "metadata": {},
     "output_type": "execute_result"
    }
   ],
   "source": [
    "archer_marksman_ocid = []\n",
    "with open('archer_marksman_ocid', newline = '') as f:\n",
    "    csv_reader = csv.reader(f)\n",
    "    for row in csv_reader :\n",
    "        archer_marksman_ocid.append(row)\n",
    "len(archer_marksman_ocid[0])"
   ]
  },
  {
   "cell_type": "code",
   "execution_count": null,
   "metadata": {},
   "outputs": [],
   "source": [
    "# 현재 날짜 기준 수집되지 않는 데이터 있음\n",
    "# 하루 전 데이터로 수집\n",
    "# 스킬 데이터는 차수마다 url이 나눠져 있으므로 따로 수집\n",
    "# variousdata_url =[# \n",
    "    f'https://open.api.nexon.com/maplestory/v1/character/basic?ocid={ocid}&date=2024-05-20',\n",
    "    f'https://open.api.nexon.com/maplestory/v1/character/stat?ocid={ocid}&date=2024-05-20',\n",
    "    f'https://open.api.nexon.com/maplestory/v1/character/hyper-stat?ocid={ocid}&date=2024-05-20',\n",
    "    f'https://open.api.nexon.com/maplestory/v1/character/ability?ocid={ocid}&date=2024-05-20',\n",
    "    f'https://open.api.nexon.com/maplestory/v1/character/item-equipment?ocid={ocid}&date=2024-05-20',\n",
    "    f'https://open.api.nexon.com/maplestory/v1/character/cashitem-equipment?ocid={ocid}&date=2024-05-20',\n",
    "    f'https://open.api.nexon.com/maplestory/v1/character/symbol-equipment?ocid={ocid}&date=2024-05-20',\n",
    "    f'https://open.api.nexon.com/maplestory/v1/character/set-effect?ocid={ocid}&date=2024-05-20',\n",
    "    f'https://open.api.nexon.com/maplestory/v1/character/android-equipment?ocid={ocid}&date=2024-05-20',\n",
    "    f'https://open.api.nexon.com/maplestory/v1/character/pet-equipment?ocid={ocid}&date=2024-05-20',\n",
    "    f'https://open.api.nexon.com/maplestory/v1/character/link-skill?ocid={ocid}&date=2024-05-20',\n",
    "    f'https://open.api.nexon.com/maplestory/v1/character/vmatrix?ocid={ocid}&date=2024-05-20',\n",
    "    f'https://open.api.nexon.com/maplestory/v1/character/hexamatrix?ocid={ocid}&date=2024-05-20',\n",
    "    f'https://open.api.nexon.com/maplestory/v1/character/hexamatrix-stat?ocid={ocid}&date=2024-05-20',\n",
    "    f'https://open.api.nexon.com/maplestory/v1/character/dojang?ocid={ocid}&date=2024-05-20'\n",
    "]"
   ]
  },
  {
   "cell_type": "code",
   "execution_count": 75,
   "metadata": {},
   "outputs": [],
   "source": [
    "# variousdata_title = ['basic', 'stat', 'hyper-stat', 'ability', 'item-equipment', 'cashitem-equipment', 'symbol-equipment', 'set-effect', 'android-equipment', 'pet-equipment', 'link-skill', 'vmatrix', 'hexamatrix', 'hexamatrix-stat', 'dojang']\n",
    "# name_list = ['basic_info', 'com_abil', 'hyper_stat', 'abil_info', 'item_info', 'cash_item_info', 'symbol_info', 'set_info', 'android_info', 'pet_info', 'link_info', 'vmatrix_info', 'hexacore_info', 'hexa_info', 'dojang_info']"
   ]
  },
  {
   "cell_type": "code",
   "execution_count": 33,
   "metadata": {},
   "outputs": [],
   "source": [
    "# API 일일 요청 제한 건수 제한이 있어 6개씩 진행\n",
    "# basic ~ item_equipment까지 완료\n",
    "# title_list = ['basic']\n",
    "# title_list = ['stat', 'hyper-stat', 'ability', 'item-equipment']\n",
    "\n",
    "ocid_list = archer_marksman_ocid[0]"
   ]
  },
  {
   "cell_type": "code",
   "execution_count": 34,
   "metadata": {},
   "outputs": [],
   "source": [
    "# 스킬 정보 제외 데이터 수집기\n",
    "def variousdata_collector(title_list, ocid_list) :\n",
    "    for title in title_list :\n",
    "        globals()[f'{title}_info'] = []\n",
    "    for title in title_list :\n",
    "        for ocid in ocid_list :\n",
    "            url = f'https://open.api.nexon.com/maplestory/v1/character/{title}?ocid={ocid}&date=2024-05-20'\n",
    "            request = requests.get(url, headers=headers)\n",
    "            result = request.json()\n",
    "            globals()[f'{title}_info'].append(result)\n",
    "            time.sleep(1)\n",
    "        with open(f'{title}_info.json', 'w') as f:\n",
    "            json.dump(globals()[f'{title}_info'], f)"
   ]
  },
  {
   "cell_type": "code",
   "execution_count": 87,
   "metadata": {},
   "outputs": [],
   "source": [
    "with open(\"hyper-stat_info.json\", \"r\") as f:\n",
    "\tbasic = json.load(f)"
   ]
  },
  {
   "cell_type": "code",
   "execution_count": 16,
   "metadata": {},
   "outputs": [
    {
     "data": {
      "text/plain": [
       "155"
      ]
     },
     "execution_count": 16,
     "metadata": {},
     "output_type": "execute_result"
    }
   ],
   "source": [
    "len(basic)"
   ]
  },
  {
   "cell_type": "code",
   "execution_count": 35,
   "metadata": {},
   "outputs": [],
   "source": [
    "variousdata_collector(title_list, ocid_list)"
   ]
  },
  {
   "cell_type": "code",
   "execution_count": 39,
   "metadata": {},
   "outputs": [
    {
     "data": {
      "text/plain": [
       "'1a40ff7dfe726629a0d803fc4f5e924c'"
      ]
     },
     "execution_count": 39,
     "metadata": {},
     "output_type": "execute_result"
    }
   ],
   "source": [
    "ocid_list[-1]"
   ]
  },
  {
   "cell_type": "code",
   "execution_count": 94,
   "metadata": {},
   "outputs": [
    {
     "data": {
      "text/plain": [
       "{'date': '2024-05-20T00:00+09:00',\n",
       " 'character_class': '신궁',\n",
       " 'use_preset_no': '1',\n",
       " 'use_available_hyper_stat': 1415,\n",
       " 'hyper_stat_preset_1': [{'stat_type': 'STR',\n",
       "   'stat_point': None,\n",
       "   'stat_level': 0,\n",
       "   'stat_increase': None},\n",
       "  {'stat_type': 'DEX',\n",
       "   'stat_point': 60,\n",
       "   'stat_level': 7,\n",
       "   'stat_increase': '민첩성 210 증가'},\n",
       "  {'stat_type': 'INT',\n",
       "   'stat_point': None,\n",
       "   'stat_level': 0,\n",
       "   'stat_increase': None},\n",
       "  {'stat_type': 'LUK',\n",
       "   'stat_point': None,\n",
       "   'stat_level': 0,\n",
       "   'stat_increase': None},\n",
       "  {'stat_type': 'HP',\n",
       "   'stat_point': None,\n",
       "   'stat_level': 0,\n",
       "   'stat_increase': None},\n",
       "  {'stat_type': 'MP',\n",
       "   'stat_point': None,\n",
       "   'stat_level': 0,\n",
       "   'stat_increase': None},\n",
       "  {'stat_type': 'DF/TF/PP',\n",
       "   'stat_point': None,\n",
       "   'stat_level': 0,\n",
       "   'stat_increase': None},\n",
       "  {'stat_type': '크리티컬 확률',\n",
       "   'stat_point': 1,\n",
       "   'stat_level': 1,\n",
       "   'stat_increase': '크리티컬 확률 1% 증가'},\n",
       "  {'stat_type': '크리티컬 데미지',\n",
       "   'stat_point': 440,\n",
       "   'stat_level': 14,\n",
       "   'stat_increase': '크리티컬 데미지 14% 증가'},\n",
       "  {'stat_type': '방어율 무시',\n",
       "   'stat_point': None,\n",
       "   'stat_level': 0,\n",
       "   'stat_increase': None},\n",
       "  {'stat_type': '데미지',\n",
       "   'stat_point': 440,\n",
       "   'stat_level': 14,\n",
       "   'stat_increase': '데미지 42% 증가'},\n",
       "  {'stat_type': '보스 몬스터 공격 시 데미지 증가',\n",
       "   'stat_point': None,\n",
       "   'stat_level': 0,\n",
       "   'stat_increase': None},\n",
       "  {'stat_type': '상태 이상 내성',\n",
       "   'stat_point': None,\n",
       "   'stat_level': 0,\n",
       "   'stat_increase': None},\n",
       "  {'stat_type': '공격력/마력',\n",
       "   'stat_point': 25,\n",
       "   'stat_level': 5,\n",
       "   'stat_increase': '공격력과 마력 15 증가'},\n",
       "  {'stat_type': '획득 경험치',\n",
       "   'stat_point': 7,\n",
       "   'stat_level': 3,\n",
       "   'stat_increase': '획득 경험치 1.5% 증가'},\n",
       "  {'stat_type': '아케인포스',\n",
       "   'stat_point': None,\n",
       "   'stat_level': 0,\n",
       "   'stat_increase': None},\n",
       "  {'stat_type': '일반 몬스터 공격 시 데미지 증가',\n",
       "   'stat_point': 440,\n",
       "   'stat_level': 14,\n",
       "   'stat_increase': '일반 몬스터 공격 시 데미지 51% 증가'}],\n",
       " 'hyper_stat_preset_1_remain_point': 2,\n",
       " 'hyper_stat_preset_2': [{'stat_type': 'STR',\n",
       "   'stat_point': None,\n",
       "   'stat_level': 0,\n",
       "   'stat_increase': None},\n",
       "  {'stat_type': 'DEX',\n",
       "   'stat_point': 60,\n",
       "   'stat_level': 7,\n",
       "   'stat_increase': '민첩성 210 증가'},\n",
       "  {'stat_type': 'INT',\n",
       "   'stat_point': None,\n",
       "   'stat_level': 0,\n",
       "   'stat_increase': None},\n",
       "  {'stat_type': 'LUK',\n",
       "   'stat_point': None,\n",
       "   'stat_level': 0,\n",
       "   'stat_increase': None},\n",
       "  {'stat_type': 'HP',\n",
       "   'stat_point': None,\n",
       "   'stat_level': 0,\n",
       "   'stat_increase': None},\n",
       "  {'stat_type': 'MP',\n",
       "   'stat_point': None,\n",
       "   'stat_level': 0,\n",
       "   'stat_increase': None},\n",
       "  {'stat_type': 'DF/TF/PP',\n",
       "   'stat_point': None,\n",
       "   'stat_level': 0,\n",
       "   'stat_increase': None},\n",
       "  {'stat_type': '크리티컬 확률',\n",
       "   'stat_point': 15,\n",
       "   'stat_level': 4,\n",
       "   'stat_increase': '크리티컬 확률 4% 증가'},\n",
       "  {'stat_type': '크리티컬 데미지',\n",
       "   'stat_point': 345,\n",
       "   'stat_level': 13,\n",
       "   'stat_increase': '크리티컬 데미지 13% 증가'},\n",
       "  {'stat_type': '방어율 무시',\n",
       "   'stat_point': 40,\n",
       "   'stat_level': 6,\n",
       "   'stat_increase': '방어율 무시 18% 증가'},\n",
       "  {'stat_type': '데미지',\n",
       "   'stat_point': 345,\n",
       "   'stat_level': 13,\n",
       "   'stat_increase': '데미지 39% 증가'},\n",
       "  {'stat_type': '보스 몬스터 공격 시 데미지 증가',\n",
       "   'stat_point': 550,\n",
       "   'stat_level': 15,\n",
       "   'stat_increase': '보스 몬스터 공격 시 데미지 55% 증가'},\n",
       "  {'stat_type': '상태 이상 내성',\n",
       "   'stat_point': None,\n",
       "   'stat_level': 0,\n",
       "   'stat_increase': None},\n",
       "  {'stat_type': '공격력/마력',\n",
       "   'stat_point': 60,\n",
       "   'stat_level': 7,\n",
       "   'stat_increase': '공격력과 마력 21 증가'},\n",
       "  {'stat_type': '획득 경험치',\n",
       "   'stat_point': None,\n",
       "   'stat_level': 0,\n",
       "   'stat_increase': None},\n",
       "  {'stat_type': '아케인포스',\n",
       "   'stat_point': None,\n",
       "   'stat_level': 0,\n",
       "   'stat_increase': None},\n",
       "  {'stat_type': '일반 몬스터 공격 시 데미지 증가',\n",
       "   'stat_point': None,\n",
       "   'stat_level': 0,\n",
       "   'stat_increase': None}],\n",
       " 'hyper_stat_preset_2_remain_point': 0,\n",
       " 'hyper_stat_preset_3': [{'stat_type': 'STR',\n",
       "   'stat_point': None,\n",
       "   'stat_level': 0,\n",
       "   'stat_increase': None},\n",
       "  {'stat_type': 'DEX',\n",
       "   'stat_point': None,\n",
       "   'stat_level': 0,\n",
       "   'stat_increase': None},\n",
       "  {'stat_type': 'INT',\n",
       "   'stat_point': None,\n",
       "   'stat_level': 0,\n",
       "   'stat_increase': None},\n",
       "  {'stat_type': 'LUK',\n",
       "   'stat_point': None,\n",
       "   'stat_level': 0,\n",
       "   'stat_increase': None},\n",
       "  {'stat_type': 'HP',\n",
       "   'stat_point': None,\n",
       "   'stat_level': 0,\n",
       "   'stat_increase': None},\n",
       "  {'stat_type': 'MP',\n",
       "   'stat_point': None,\n",
       "   'stat_level': 0,\n",
       "   'stat_increase': None},\n",
       "  {'stat_type': 'DF/TF/PP',\n",
       "   'stat_point': None,\n",
       "   'stat_level': 0,\n",
       "   'stat_increase': None},\n",
       "  {'stat_type': '크리티컬 확률',\n",
       "   'stat_point': None,\n",
       "   'stat_level': 0,\n",
       "   'stat_increase': None},\n",
       "  {'stat_type': '크리티컬 데미지',\n",
       "   'stat_point': 440,\n",
       "   'stat_level': 14,\n",
       "   'stat_increase': '크리티컬 데미지 14% 증가'},\n",
       "  {'stat_type': '방어율 무시',\n",
       "   'stat_point': 60,\n",
       "   'stat_level': 7,\n",
       "   'stat_increase': '방어율 무시 21% 증가'},\n",
       "  {'stat_type': '데미지',\n",
       "   'stat_point': 150,\n",
       "   'stat_level': 10,\n",
       "   'stat_increase': '데미지 30% 증가'},\n",
       "  {'stat_type': '보스 몬스터 공격 시 데미지 증가',\n",
       "   'stat_point': 440,\n",
       "   'stat_level': 14,\n",
       "   'stat_increase': '보스 몬스터 공격 시 데미지 51% 증가'},\n",
       "  {'stat_type': '상태 이상 내성',\n",
       "   'stat_point': None,\n",
       "   'stat_level': 0,\n",
       "   'stat_increase': None},\n",
       "  {'stat_type': '공격력/마력',\n",
       "   'stat_point': None,\n",
       "   'stat_level': 0,\n",
       "   'stat_increase': None},\n",
       "  {'stat_type': '획득 경험치',\n",
       "   'stat_point': None,\n",
       "   'stat_level': 0,\n",
       "   'stat_increase': None},\n",
       "  {'stat_type': '아케인포스',\n",
       "   'stat_point': None,\n",
       "   'stat_level': 0,\n",
       "   'stat_increase': None},\n",
       "  {'stat_type': '일반 몬스터 공격 시 데미지 증가',\n",
       "   'stat_point': None,\n",
       "   'stat_level': 0,\n",
       "   'stat_increase': None}],\n",
       " 'hyper_stat_preset_3_remain_point': 325}"
      ]
     },
     "execution_count": 94,
     "metadata": {},
     "output_type": "execute_result"
    }
   ],
   "source": [
    "basic[-6]"
   ]
  },
  {
   "cell_type": "code",
   "execution_count": null,
   "metadata": {},
   "outputs": [],
   "source": []
  }
 ],
 "metadata": {
  "kernelspec": {
   "display_name": "[tensorflow]",
   "language": "python",
   "name": "python3"
  },
  "language_info": {
   "codemirror_mode": {
    "name": "ipython",
    "version": 3
   },
   "file_extension": ".py",
   "mimetype": "text/x-python",
   "name": "python",
   "nbconvert_exporter": "python",
   "pygments_lexer": "ipython3",
   "version": "3.10.14"
  }
 },
 "nbformat": 4,
 "nbformat_minor": 2
}
